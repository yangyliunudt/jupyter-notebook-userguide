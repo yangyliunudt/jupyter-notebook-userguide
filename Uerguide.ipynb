{
 "cells": [
  {
   "cell_type": "markdown",
   "metadata": {},
   "source": [
    "# Jupyter用户指南\n",
    "## 引言\n",
    "笔记本扩展了基于命令行的方法以高品质来实现交互式计算，提供了一个基于网页应用适用于捕捉整个计算过程：开发，文档处理，执行代码，以及返回结果。jupyter笔记本结合了两个内容：\n",
    "\n",
    "**一个网页应用**：一个用于包含说明文本，数学，计算以及相应的丰富的格式输出文档的基于浏览器的交互写作工具。\n",
    "\n",
    "**笔记本文档**：所有内容在网页应用中可见表示，包括计算的输入，输出，解释文本，数学，和丰富的对象媒体表示。\n",
    "\n",
    ">也见于:\n",
    "\n",
    ">阅读[安装指南]()关于怎样安装笔记本和它的依赖项。\n",
    "\n",
    "## 网页应用的主要特征\n",
    "\n",
    "- 浏览器编辑代码，具备自动语法高亮，缩进和tab补全纠错。\n",
    "- 从浏览器中执行代码,计算结果附加在产生它们的代码上。\n",
    "- 计算结果用富媒体表示，例如HTML，LaTex,PNG,SVG等，例如，由matplotlib库支持的出版质量的图，可以被包含在行内。\n",
    "- 浏览器内编辑富文本使用[Markdown](https://daringfireball.net/projects/markdown/syntax)标记语言，并且可以为代码提供注释，而不只是纯文本。\n",
    "- 轻松地在markdown单元中使用LaTeX包含数学记号，自然地由[MathJax](https://www.mathjax.org/)。\n",
    "\n",
    "## 笔记本文档\n",
    "Notebook文档包含交互式会话的输入和输出以及代码附带的其他文本，但不适用于执行。通过这种方式，笔记本文件可以充当会话的完整计算记录，将可执行代码与解释性文本，数学和结果对象的丰富表示交织在一起。这些文档是内部的[JSON](https://en.wikipedia.org/wiki/JSON)文件，并以`.ipynb`扩展名保存。由于JSON是纯文本格式，因此可以通过版本控制并与同事共享。\n",
    "\n",
    "可以通过[nbconvert](https://nbconvert.readthedocs.io/en/latest/)命令将笔记本导出为一系列静态格式，包括HTML（例如，博客文章），reStructuredText，LaTeX，PDF和幻灯片放映。\n",
    "\n",
    "此外，可以通过Jupyter Notebook Viewer（nbviewer）共享可从公共URL获得的任何`.ipynb`笔记本文档。该服务从URL加载笔记本文档并将其呈现为静态网页。因此，结果可能会与同事共享，或作为公共博客帖子分享，而其他用户无需自行安装Jupyter笔记本。实际上，nbviewer只是nbconvert作为一个web服务，所以你可以用nbconvert做你自己的静态转换，而不依赖于nbviewer。\n",
    "\n",
    ">同样见于：\n",
    "\n",
    ">笔记本JSON文件格式的详情\n",
    "\n",
    "## 笔记本和隐私\n",
    "\n",
    "由于您在网络浏览器中使用Jupyter，因此有些人可以理解地将关心敏感数据的使用安全。 然而，如果您遵循标准安装说明，Jupyter实际上是在您自己的计算机上运行。 如果地址栏中的URL以\n",
    "http:localhost： 或 http://127.0.0.1: 开头，则表示您的计算机充当服务器。 Jupyter不会将数据发送到其他任何地方 - 而且由于它是开源的，其他人可以检查我们对此是否诚实。\n",
    "\n",
    "您也可以远程使用Jupyter：例如，您的公司或大学可能会为您运行服务器。 如果您想在这些情况下处理敏感数据，请咨询您的IT或数据保护人员。\n",
    "\n",
    "我们的目标是确保浏览器中的其他页面或同一台计算机上的其他用户无法访问笔记本服务器。 有关更多信息，请参阅[Jupyter笔记本服务器中的安全性]()。\n",
    "## 启动笔记本服务器\n",
    "你可以从命令行里使用如下命令运行一个笔记本：\n",
    "\n",
    "    jupyter notebook\n",
    "这将在您的控制台中打印关于笔记本服务器的一些信息，并打开Web浏览器以访问Web应用程序的URL（默认为http://127.0.0.1:8888 ）。\n",
    "\n",
    "Jupyter笔记本Web应用程序的登录页面（**仪表板**）显示当前笔记本目录中可用的笔记本（默认情况下，笔记本服务器从其启动的目录）。\n",
    "\n",
    "您可以使用“新建笔记本”按钮从仪表板创建新笔记本，也可以通过单击其名称打开现有笔记本。您还可以将`.ipynb`笔记本和标准`.py` Python源代码文件拖放到笔记本列表区域。\n",
    "\n",
    "从命令行启动笔记本服务器时，您也可以直接打开特定笔记本，绕过仪表板，使用`jupyter`笔记本my_notebook.ipynb。如果没有给出扩展名，则假定`.ipynb`扩展名。\n",
    "\n",
    "当您在打开的笔记本中时，File |打开...菜单选项将在新浏览器选项卡中打开仪表板，以允许您从笔记本目录打开另一个笔记本或创建新的笔记本。\n",
    "\n",
    ">注意\n",
    ">\n",
    ">如果你想在不同目录下的笔记本上工作，你可以同时启动多个笔记本服务器。 默认情况下，第一台笔记本服务器在端口8888上启动，随后笔记本服务器搜索该端口附近的端口。 您也可以使用`--port`选项手动指定端口。"
   ]
  },
  {
   "cell_type": "markdown",
   "metadata": {},
   "source": []
  }
 ],
 "metadata": {
  "kernelspec": {
   "display_name": "Python 2",
   "language": "python",
   "name": "python2"
  },
  "language_info": {
   "codemirror_mode": {
    "name": "ipython",
    "version": 2
   },
   "file_extension": ".py",
   "mimetype": "text/x-python",
   "name": "python",
   "nbconvert_exporter": "python",
   "pygments_lexer": "ipython2",
   "version": "2.7.13"
  }
 },
 "nbformat": 4,
 "nbformat_minor": 2
}
